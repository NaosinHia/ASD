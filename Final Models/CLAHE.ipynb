{
 "cells": [
  {
   "cell_type": "code",
   "execution_count": 2,
   "id": "b5fff8a5",
   "metadata": {},
   "outputs": [
    {
     "name": "stdout",
     "output_type": "stream",
     "text": [
      "All images processed and saved successfully.\n"
     ]
    }
   ],
   "source": [
    "import os\n",
    "import cv2\n",
    "\n",
    "def apply_clahe(image, clip_limit=2.0, tile_grid_size=(8, 8)):\n",
    "    # Convert image to LAB color space\n",
    "    lab_image = cv2.cvtColor(image, cv2.COLOR_BGR2LAB)\n",
    "    \n",
    "    # Split the LAB image into L, A, and B channels\n",
    "    l_channel, a_channel, b_channel = cv2.split(lab_image)\n",
    "    \n",
    "    # Apply CLAHE to the L channel\n",
    "    clahe = cv2.createCLAHE(clipLimit=clip_limit, tileGridSize=tile_grid_size)\n",
    "    cl_channel = clahe.apply(l_channel)\n",
    "    \n",
    "    # Merge the CLAHE enhanced L channel with the original A and B channels\n",
    "    merged_lab = cv2.merge((cl_channel, a_channel, b_channel))\n",
    "    \n",
    "    # Convert the LAB image back to RGB color space\n",
    "    result_image = cv2.cvtColor(merged_lab, cv2.COLOR_LAB2BGR)\n",
    "    \n",
    "    return result_image\n",
    "\n",
    "# Input and output folder paths\n",
    "input_folder = \"C:/Users/Admin/Downloads/Thesis Code/AutismDataset/valid/Non_Autistic/\"  # Provide the path to the input folder containing images\n",
    "output_folder = \"C:/Users/Admin/Downloads/Thesis Code/output_val/\"  # Provide the path to the output folder where processed images will be saved\n",
    "\n",
    "# Ensure the output folder exists, if not create it\n",
    "if not os.path.exists(output_folder):\n",
    "    os.makedirs(output_folder)\n",
    "\n",
    "# Process each image in the input folder\n",
    "for filename in os.listdir(input_folder):\n",
    "    if filename.endswith(\".jpg\") or filename.endswith(\".png\"):  # Process only JPEG or PNG images\n",
    "        # Load image\n",
    "        image_path = os.path.join(input_folder, filename)\n",
    "        rgb_image = cv2.imread(image_path)\n",
    "        \n",
    "        # Apply CLAHE\n",
    "        clahe_image = apply_clahe(rgb_image)\n",
    "        \n",
    "        # Save processed image to output folder with the same name\n",
    "        output_path = os.path.join(output_folder, filename)\n",
    "        cv2.imwrite(output_path, clahe_image)\n",
    "\n",
    "print(\"All images processed and saved successfully.\")\n"
   ]
  },
  {
   "cell_type": "code",
   "execution_count": null,
   "id": "6b6798f2",
   "metadata": {},
   "outputs": [],
   "source": []
  }
 ],
 "metadata": {
  "kernelspec": {
   "display_name": "Python 3 (ipykernel)",
   "language": "python",
   "name": "python3"
  },
  "language_info": {
   "codemirror_mode": {
    "name": "ipython",
    "version": 3
   },
   "file_extension": ".py",
   "mimetype": "text/x-python",
   "name": "python",
   "nbconvert_exporter": "python",
   "pygments_lexer": "ipython3",
   "version": "3.10.13"
  }
 },
 "nbformat": 4,
 "nbformat_minor": 5
}
